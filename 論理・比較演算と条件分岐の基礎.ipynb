{
  "nbformat": 4,
  "nbformat_minor": 0,
  "metadata": {
    "colab": {
      "provenance": [],
      "authorship_tag": "ABX9TyMhtdedb/uc4dqEQL43xDEu",
      "include_colab_link": true
    },
    "kernelspec": {
      "name": "python3",
      "display_name": "Python 3"
    },
    "language_info": {
      "name": "python"
    }
  },
  "cells": [
    {
      "cell_type": "markdown",
      "metadata": {
        "id": "view-in-github",
        "colab_type": "text"
      },
      "source": [
        "<a href=\"https://colab.research.google.com/github/GAKUNEMOTO/portfolio/blob/main/%E8%AB%96%E7%90%86%E3%83%BB%E6%AF%94%E8%BC%83%E6%BC%94%E7%AE%97%E3%81%A8%E6%9D%A1%E4%BB%B6%E5%88%86%E5%B2%90%E3%81%AE%E5%9F%BA%E7%A4%8E.ipynb\" target=\"_parent\"><img src=\"https://colab.research.google.com/assets/colab-badge.svg\" alt=\"Open In Colab\"/></a>"
      ]
    },
    {
      "cell_type": "code",
      "execution_count": 1,
      "metadata": {
        "id": "l5IeMnzXF8-Z"
      },
      "outputs": [],
      "source": [
        "def bmax(a,b):\n",
        "  if a > b:\n",
        "    return a\n",
        "  else:\n",
        "    return b"
      ]
    },
    {
      "cell_type": "code",
      "source": [
        "bmax(3,5)"
      ],
      "metadata": {
        "colab": {
          "base_uri": "https://localhost:8080/"
        },
        "id": "O54TSfdpGJM8",
        "outputId": "3c46163f-cf27-4048-b890-87434433abfb"
      },
      "execution_count": 2,
      "outputs": [
        {
          "output_type": "execute_result",
          "data": {
            "text/plain": [
              "5"
            ]
          },
          "metadata": {},
          "execution_count": 2
        }
      ]
    },
    {
      "cell_type": "markdown",
      "source": [
        "#練習absolute\n"
      ],
      "metadata": {
        "id": "Yzr6GeeDGXs1"
      }
    },
    {
      "cell_type": "code",
      "source": [
        "def absolute(x):\n",
        "  if x < 0:\n",
        "    return -x\n",
        "  else:\n",
        "    return x"
      ],
      "metadata": {
        "id": "iQTLTv1uGcLS"
      },
      "execution_count": 3,
      "outputs": []
    },
    {
      "cell_type": "code",
      "source": [
        "assert absolute(5) == 5\n",
        "assert absolute(-5) == 5\n",
        "assert absolute(0) == 0"
      ],
      "metadata": {
        "id": "zWEmJL6pGljV"
      },
      "execution_count": 4,
      "outputs": []
    },
    {
      "cell_type": "code",
      "source": [
        "def sign(x):\n",
        "  if x > 0:\n",
        "    return 1\n",
        "  elif x < 0:\n",
        "    return -1\n",
        "  else:\n",
        "    return 0"
      ],
      "metadata": {
        "id": "C3nVfTMEGoC9"
      },
      "execution_count": 5,
      "outputs": []
    },
    {
      "cell_type": "code",
      "source": [
        "assert sign(5) == 1\n",
        "assert sign(-5) == -1\n",
        "assert sign(0) == 0\n"
      ],
      "metadata": {
        "id": "uguTHIpbGy9-"
      },
      "execution_count": 6,
      "outputs": []
    },
    {
      "cell_type": "markdown",
      "source": [
        "#真理値を返す関数"
      ],
      "metadata": {
        "id": "w4aO7Ls0G017"
      }
    },
    {
      "cell_type": "markdown",
      "source": [
        "##TrueまたはFalse\n"
      ],
      "metadata": {
        "id": "7u-eQWH3G80V"
      }
    },
    {
      "cell_type": "code",
      "source": [
        "def is_even(x):\n",
        "  return x % 2 == 0"
      ],
      "metadata": {
        "id": "qApGTXiPG5tZ"
      },
      "execution_count": 7,
      "outputs": []
    },
    {
      "cell_type": "code",
      "source": [
        "is_even(2)"
      ],
      "metadata": {
        "colab": {
          "base_uri": "https://localhost:8080/"
        },
        "id": "COo98741HJRL",
        "outputId": "856889d2-3ea3-4908-b2e3-f16334494030"
      },
      "execution_count": 8,
      "outputs": [
        {
          "output_type": "execute_result",
          "data": {
            "text/plain": [
              "True"
            ]
          },
          "metadata": {},
          "execution_count": 8
        }
      ]
    },
    {
      "cell_type": "markdown",
      "source": [
        "#オブジェクト"
      ],
      "metadata": {
        "id": "z46S4MBFHPN8"
      }
    },
    {
      "cell_type": "code",
      "source": [
        "if 0:\n",
        "  print('OK')\n",
        "else:\n",
        "  print('NG')"
      ],
      "metadata": {
        "colab": {
          "base_uri": "https://localhost:8080/"
        },
        "id": "Sgg_suzUHTQR",
        "outputId": "030e3d4f-cde2-4e1c-c3c6-3e0ecb64cef3"
      },
      "execution_count": 9,
      "outputs": [
        {
          "output_type": "stream",
          "name": "stdout",
          "text": [
            "NG\n"
          ]
        }
      ]
    },
    {
      "cell_type": "markdown",
      "source": [
        "#再帰"
      ],
      "metadata": {
        "id": "IHo7fJluHrVI"
      }
    },
    {
      "cell_type": "code",
      "source": [
        "def fib(n):\n",
        "  if n < 2:\n",
        "    return n\n",
        "  else:\n",
        "    return fib(n-1) + fib(n -2)"
      ],
      "metadata": {
        "id": "xdnuyrp-HswB"
      },
      "execution_count": 10,
      "outputs": []
    },
    {
      "cell_type": "code",
      "source": [
        "fib(10)\n"
      ],
      "metadata": {
        "colab": {
          "base_uri": "https://localhost:8080/"
        },
        "id": "7Kn5saf0H714",
        "outputId": "f934b1ab-bcae-45ee-f335-0c6beaade538"
      },
      "execution_count": 11,
      "outputs": [
        {
          "output_type": "execute_result",
          "data": {
            "text/plain": [
              "55"
            ]
          },
          "metadata": {},
          "execution_count": 11
        }
      ]
    }
  ]
}